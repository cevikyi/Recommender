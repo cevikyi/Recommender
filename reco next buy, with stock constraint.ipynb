{
 "cells": [
  {
   "cell_type": "code",
   "execution_count": null,
   "id": "11e5434f",
   "metadata": {},
   "outputs": [],
   "source": [
    "import pandas as pd\n",
    "from sklearn.metrics.pairwise import cosine_similarity\n",
    "\n",
    "# Load the data into a pandas DataFrame\n",
    "data = pd.read_csv('retail_data.csv')\n",
    "\n",
    "# Add a column to the DataFrame indicating whether each product is in stock or not\n",
    "data['in_stock'] = data['productName'].isin(['Product1', 'Product2', 'Product3'])\n",
    "\n",
    "# Create a pivot table of the ratings data\n",
    "ratings_matrix = data.pivot_table(index='customerId', columns='productName', values='quantity')\n",
    "\n",
    "# Compute the cosine similarity between each pair of users\n",
    "user_similarity = cosine_similarity(ratings_matrix)\n",
    "\n",
    "# Create a dictionary to store the recommendations for each user\n",
    "recommendations = {}\n",
    "\n",
    "# For each user, find the most similar users and get their product recommendations\n",
    "for user in ratings_matrix.index:\n",
    "    # Get the index of the user in the similarity matrix\n",
    "    user_index = ratings_matrix.index.get_loc(user)\n",
    "\n",
    "    # Get the indices of the most similar users\n",
    "    similar_user_indices = user_similarity[user_index].argsort()[::-1][1:6]\n",
    "\n",
    "    # Get the product ratings for the most similar users\n",
    "    similar_user_ratings = ratings_matrix.iloc[similar_user_indices]\n",
    "\n",
    "    # Get the average ratings for each product across the most similar users, excluding the user's own ratings and products that are not in stock\n",
    "    product_ratings = similar_user_ratings.mean(axis=0) - ratings_matrix.loc[user]\n",
    "    product_ratings = product_ratings[data['in_stock']]\n",
    "\n",
    "    # Get the top 5 products with the highest average ratings\n",
    "    top_products = product_ratings.sort_values(ascending=False)[:5]\n",
    "\n",
    "    # Store the recommendations for the user\n",
    "    recommendations[user] = list(top_products.index)\n",
    "\n",
    "# Create a DataFrame with the recommendations for each user\n",
    "recommendations_df = pd.DataFrame.from_dict(recommendations, orient='index')\n",
    "recommendations_df.columns = ['recommended_product1', 'recommended_product2', 'recommended_product3', 'recommended_product4', 'recommended_product5']\n"
   ]
  }
 ],
 "metadata": {
  "kernelspec": {
   "display_name": "Python 3 (ipykernel)",
   "language": "python",
   "name": "python3"
  },
  "language_info": {
   "codemirror_mode": {
    "name": "ipython",
    "version": 3
   },
   "file_extension": ".py",
   "mimetype": "text/x-python",
   "name": "python",
   "nbconvert_exporter": "python",
   "pygments_lexer": "ipython3",
   "version": "3.9.12"
  }
 },
 "nbformat": 4,
 "nbformat_minor": 5
}
